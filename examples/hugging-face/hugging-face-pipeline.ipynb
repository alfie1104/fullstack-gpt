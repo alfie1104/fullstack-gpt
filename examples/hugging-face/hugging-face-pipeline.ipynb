{
 "cells": [
  {
   "cell_type": "code",
   "execution_count": 6,
   "metadata": {},
   "outputs": [
    {
     "name": "stderr",
     "output_type": "stream",
     "text": [
      "Using pad_token, but it is not set yet.\n",
      "Setting `pad_token_id` to `eos_token_id`:50256 for open-end generation.\n"
     ]
    },
    {
     "data": {
      "text/plain": [
       "\" kind of sweet potato so it's usually not the highest profile variety, but if you can eat it in it more often…\\n\\n5. Pickle your potatoes, and then fry them\\n\\nWhen I was growing up, potato was the most common potato. Many people who made that dish were friends from other tribes. Some of them had never tried a piece of potato. And most of us got a glimpse of our kids growing up. It was pretty obvious. How many of us ate it? I knew.\\n\\nHere's what I do know: it's OK to make potatoes, but if you do break these simple rules…\\n\\n1. Don't get a potato from one family's house.\\n\\nThis could mean getting\""
      ]
     },
     "execution_count": 6,
     "metadata": {},
     "output_type": "execute_result"
    }
   ],
   "source": [
    "from langchain.llms.huggingface_pipeline import HuggingFacePipeline\n",
    "from langchain.prompts import PromptTemplate\n",
    "\n",
    "# HuggingFaceHub의 경우 hugging face repo에 있는 model의 api를 사용해서 연산을 수행하지만\n",
    "# HuggingFacePipeline.from_model_id를 이용하면 huggig face에서 model을 다운받고 로컬에서 연산을 수행할 수 있음\n",
    "\n",
    "prompt = PromptTemplate.from_template(\"A {word} is a\")\n",
    "\n",
    "llm = HuggingFacePipeline.from_model_id(\n",
    "    model_id=\"gpt2\",\n",
    "    task=\"text-generation\",\n",
    "    # device=0 # 0 : GPU, -1 : CPU\n",
    "    pipeline_kwargs={\"max_new_tokens\":150},\n",
    ")\n",
    "\n",
    "chain = prompt | llm\n",
    "\n",
    "chain.invoke({\n",
    "    \"word\":\"potato\"\n",
    "})"
   ]
  },
  {
   "cell_type": "code",
   "execution_count": null,
   "metadata": {},
   "outputs": [],
   "source": []
  }
 ],
 "metadata": {
  "kernelspec": {
   "display_name": "venv",
   "language": "python",
   "name": "python3"
  },
  "language_info": {
   "codemirror_mode": {
    "name": "ipython",
    "version": 3
   },
   "file_extension": ".py",
   "mimetype": "text/x-python",
   "name": "python",
   "nbconvert_exporter": "python",
   "pygments_lexer": "ipython3",
   "version": "3.11.4"
  }
 },
 "nbformat": 4,
 "nbformat_minor": 2
}
