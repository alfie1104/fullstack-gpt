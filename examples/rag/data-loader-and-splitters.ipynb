{
 "cells": [
  {
   "cell_type": "code",
   "execution_count": null,
   "metadata": {},
   "outputs": [],
   "source": [
    "\"\"\"\n",
    " [Retrieval]\n",
    " Langchain의 모듈\n",
    "\n",
    " LLM모델의 학습시에 user-specific data의 경우 사용되지 않았음.\n",
    " Retrieval Augmented Generation (RAG)를 이용해서 사용자가 제공한 정보를 사용할 수 있음\n",
    " RAG의 첫번째 부분으로 데이터를 retrieving하는 프로세스는 다음과 같음\n",
    " Source 데이터 -> 데이터 Load -> 데이터 Transform -> 데이터 Embeding -> Store -> Retrieve\n",
    "\n",
    "\"\"\""
   ]
  }
 ],
 "metadata": {
  "kernelspec": {
   "display_name": "venv",
   "language": "python",
   "name": "python3"
  },
  "language_info": {
   "name": "python",
   "version": "3.11.6"
  }
 },
 "nbformat": 4,
 "nbformat_minor": 2
}
