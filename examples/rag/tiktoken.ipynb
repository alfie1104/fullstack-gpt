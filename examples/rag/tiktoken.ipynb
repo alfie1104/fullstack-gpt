{
 "cells": [
  {
   "cell_type": "code",
   "execution_count": null,
   "metadata": {},
   "outputs": [],
   "source": [
    "from langchain.chat_models import ChatOpenAI\n",
    "from langchain.document_loaders import UnstructuredFileLoader # UnstructuredFileLoader는 pdf, txt, docx를 다 열 수 있음\n",
    "from langchain.text_splitter import RecursiveCharacterTextSplitter, CharacterTextSplitter\n",
    "\n",
    "#기본적으로 모든 splitter들은 텍스트의 length를 계산해서 chunk의 크기를 알아냄(파이썬 표준라이브러리 len사용)\n",
    "# model이 텍스트의 길이를 계산하는 방법(token의 수)을 이용하기 위해 .from_tiktone_encoder를 사용할 수 있음\n",
    "\n",
    "\n",
    "splitter = CharacterTextSplitter.from_tiktoken_encoder(\n",
    "    separator=\"\\n\",\n",
    "    chunk_size=600,\n",
    "    chunk_overlap=100,\n",
    ") # 특정 문자열을 기준으로 끊어줌\n",
    "\n",
    "loader = UnstructuredFileLoader(\"../../files/chapter_one.docx\")\n",
    "\n",
    "# loader.load()\n",
    "loader.load_and_split(text_splitter=splitter)"
   ]
  }
 ],
 "metadata": {
  "kernelspec": {
   "display_name": "venv",
   "language": "python",
   "name": "python3"
  },
  "language_info": {
   "name": "python",
   "version": "3.11.6"
  }
 },
 "nbformat": 4,
 "nbformat_minor": 2
}
