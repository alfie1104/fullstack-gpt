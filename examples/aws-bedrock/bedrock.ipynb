{
 "cells": [
  {
   "cell_type": "code",
   "execution_count": null,
   "metadata": {},
   "outputs": [],
   "source": [
    "import os\n",
    "import boto3\n",
    "# boto3 : python으로 AWS와 통신할 수 있게 해주는 일종의 클라이언트\n",
    "\n",
    "session = boto3.Session(\n",
    "    aws_access_key_id=os.getenv(\"AWS_BEDROCK_ACCESS_KEY\"),\n",
    "    aws_secret_access_key=os.getenv(\"AWS_BEDROCK_SECRET_KEY\")\n",
    ") # AWS에 로그인\n",
    "\n",
    "client = session.client(\"bedrock-runtime\",\"us-east-1\") # AWS의 Bedrock runtime을 us-east-1 region에서 이용"
   ]
  },
  {
   "cell_type": "code",
   "execution_count": null,
   "metadata": {},
   "outputs": [],
   "source": [
    "from langchain.chat_models import BedrockChat # Bedrock Chatmodel을 사용\n",
    "# from langchain.llms import Bedrock # 일반 Bedrock 모델을 사용\n",
    "from langchain.prompts import ChatPromptTemplate\n",
    "\n",
    "chat = BedrockChat(\n",
    "    client=client,\n",
    "    model_id=\"anthropic.claude-v2\",\n",
    "    model_kwargs={\n",
    "        \"temperature\":0.1\n",
    "    }\n",
    ")\n",
    "\n",
    "prompt = ChatPromptTemplate.from_messages(\n",
    "    [\n",
    "        (\n",
    "            \"user\",\n",
    "            \"Translate this sentence from {lang_a} to {lang_b}. {sentence}\",\n",
    "        )\n",
    "    ]\n",
    ")\n",
    "\n",
    "chain = prompt | chat\n",
    "\n",
    "chain.invoke({\n",
    "    \"lang_a\":\"English\",\n",
    "    \"lang_b\":\"Icelandic\",\n",
    "    \"sentence\":\"I love amazon!\"\n",
    "})"
   ]
  },
  {
   "cell_type": "code",
   "execution_count": null,
   "metadata": {},
   "outputs": [],
   "source": []
  }
 ],
 "metadata": {
  "kernelspec": {
   "display_name": "venv",
   "language": "python",
   "name": "python3"
  },
  "language_info": {
   "codemirror_mode": {
    "name": "ipython",
    "version": 3
   },
   "file_extension": ".py",
   "mimetype": "text/x-python",
   "name": "python",
   "nbconvert_exporter": "python",
   "pygments_lexer": "ipython3",
   "version": "3.11.4"
  }
 },
 "nbformat": 4,
 "nbformat_minor": 2
}
