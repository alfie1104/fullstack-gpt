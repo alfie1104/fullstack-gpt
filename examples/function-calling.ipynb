{
 "cells": [
  {
   "cell_type": "code",
   "execution_count": 2,
   "metadata": {},
   "outputs": [
    {
     "name": "stderr",
     "output_type": "stream",
     "text": [
      "Authentication failed for https://api.smith.langchain.com/runs. HTTPError('401 Client Error: Unauthorized for url: https://api.smith.langchain.com/runs', '{\"detail\":\"Invalid auth\"}')\n",
      "Authentication failed for https://api.smith.langchain.com/runs/dd08bba9-7bb8-4835-9151-e2304e083222. HTTPError('401 Client Error: Unauthorized for url: https://api.smith.langchain.com/runs/dd08bba9-7bb8-4835-9151-e2304e083222', '{\"detail\":\"Invalid auth\"}')\n"
     ]
    }
   ],
   "source": [
    "from langchain.chat_models import ChatOpenAI\n",
    "from langchain.prompts import PromptTemplate\n",
    "\n",
    "# Function Calling은 GPT-3, GPT-4에서만 지원하는 기능으로 모델이 특정 함수를 호출하도록 할 수 있음\n",
    "# 이 기능을 통해 모델이 특정 함수를 호출하도록 하거나, 원하는 특정한 형식의 output을 갖도록 강제할 수 있음\n",
    "\n",
    "\n",
    "\"\"\"\n",
    "    예를 들어서 다음과 같은 코드가 있을 때,\n",
    "\n",
    "    llm  = ChatOpenAI(\n",
    "        temperature=0.1\n",
    "    )\n",
    "\n",
    "    prompt = PromptTemplate.from_template(\"How is the weather in {city}\")\n",
    "\n",
    "    chain = prompt | llm\n",
    "\n",
    "    chain.invoke({\n",
    "        \"city\":\"rome\"\n",
    "    })\n",
    "    \n",
    "    위 내용을 실행시키면 다음과 같은 답변이 돌아옴 \n",
    "\n",
    "    AIMessage(content=\"I'm sorry, I cannot provide real-time weather updates as I am an AI language model and do not have access to current data. However, you can check the weather in Rome by using a search engine or a weather website or app.\")\n",
    "\n",
    "    그런데 실시간 데이터를 가져올 수 있는 함수가 있다면?\n",
    "    AI가 그걸 호출해서 데이터를 가져오도록 하면 되지 않을까?\n",
    "    이럴때 Function Calling을 사용가능 아래 참고\n",
    "\"\"\"\n",
    "\n",
    "\n",
    "def get_weather(lng, lat):\n",
    "    print(\"call an api...\")\n",
    "\n",
    "function = {\n",
    "    \"name\" : \"get_weather\",\n",
    "    \"description\":\"function that takes longitude and latitude to find the weather of a place\",\n",
    "    \"parameters\" : {\n",
    "        \"type\" : \"object\",\n",
    "        \"properties\":{\n",
    "            \"lng\":{\n",
    "                \"type\":\"string\",\n",
    "                \"description\":\"The longitude coordinate\"\n",
    "            },\n",
    "            \"lat\":{\n",
    "                \"type\":\"string\",\n",
    "                \"description\":\"The latitude coordinate\"\n",
    "            }\n",
    "        }\n",
    "    },\n",
    "    \"required\":[\"lng\",\"lat\"]\n",
    "} # 함수의 형태와 필요한 데이터를 설명하는 schema 작성\n",
    "\n",
    "\n",
    "llm  = ChatOpenAI(\n",
    "    temperature=0.1\n",
    ").bind(\n",
    "    # function_call={\"name\" :\"get_weather\"},# 모델이 함수를 사용하도록 강제하고 싶은 경우 함수명을 정확히 입력\n",
    "    function_call=\"auto\", # AI가 필요에 따라 선택하여 사용하도록 하고 싶은 경우\n",
    "    functions=[function]\n",
    ") # bind함수를 이용하여 function_call 속성을 지정가능\n",
    "\n",
    "prompt = PromptTemplate.from_template(\"How is the weather in {city}\")\n",
    "\n",
    "chain = prompt | llm\n",
    "\n",
    "response = chain.invoke({\n",
    "    \"city\":\"rome\"\n",
    "})\n",
    "\n",
    "response = response.additional_kwargs[\"function_call\"][\"arguments\"]"
   ]
  },
  {
   "cell_type": "code",
   "execution_count": 3,
   "metadata": {},
   "outputs": [
    {
     "name": "stdout",
     "output_type": "stream",
     "text": [
      "call an api...\n"
     ]
    }
   ],
   "source": [
    "import json\n",
    "\n",
    "r = json.loads(response) # json문자열을 파이썬 객체로 변환\n",
    "\n",
    "get_weather(r['lng'], r['lat'])"
   ]
  },
  {
   "cell_type": "code",
   "execution_count": 4,
   "metadata": {},
   "outputs": [
    {
     "data": {
      "text/plain": [
       "'{\\n  \"questions\": [\\n    {\\n      \"question\": \"What year was Rome founded?\",\\n      \"answers\": [\\n        {\\n          \"answer\": \"753 BC\",\\n          \"correct\": true\\n        },\\n        {\\n          \"answer\": \"476 AD\",\\n          \"correct\": false\\n        },\\n        {\\n          \"answer\": \"1492 AD\",\\n          \"correct\": false\\n        },\\n        {\\n          \"answer\": \"44 BC\",\\n          \"correct\": false\\n        }\\n      ]\\n    },\\n    {\\n      \"question\": \"Who was the first emperor of Rome?\",\\n      \"answers\": [\\n        {\\n          \"answer\": \"Julius Caesar\",\\n          \"correct\": false\\n        },\\n        {\\n          \"answer\": \"Augustus\",\\n          \"correct\": true\\n        },\\n        {\\n          \"answer\": \"Nero\",\\n          \"correct\": false\\n        },\\n        {\\n          \"answer\": \"Constantine\",\\n          \"correct\": false\\n        }\\n      ]\\n    },\\n    {\\n      \"question\": \"What was the official language of the Roman Empire?\",\\n      \"answers\": [\\n        {\\n          \"answer\": \"Latin\",\\n          \"correct\": true\\n        },\\n        {\\n          \"answer\": \"Greek\",\\n          \"correct\": false\\n        },\\n        {\\n          \"answer\": \"Italian\",\\n          \"correct\": false\\n        },\\n        {\\n          \"answer\": \"Spanish\",\\n          \"correct\": false\\n        }\\n      ]\\n    },\\n    {\\n      \"question\": \"Who was the legendary founder of Rome?\",\\n      \"answers\": [\\n        {\\n          \"answer\": \"Romulus\",\\n          \"correct\": true\\n        },\\n        {\\n          \"answer\": \"Remus\",\\n          \"correct\": false\\n        },\\n        {\\n          \"answer\": \"Caesar\",\\n          \"correct\": false\\n        },\\n        {\\n          \"answer\": \"Hannibal\",\\n          \"correct\": false\\n        }\\n      ]\\n    },\\n    {\\n      \"question\": \"What was the name of the Roman gladiatorial arena?\",\\n      \"answers\": [\\n        {\\n          \"answer\": \"Colosseum\",\\n          \"correct\": true\\n        },\\n        {\\n          \"answer\": \"Pantheon\",\\n          \"correct\": false\\n        },\\n        {\\n          \"answer\": \"Forum\",\\n          \"correct\": false\\n        },\\n        {\\n          \"answer\": \"Circus Maximus\",\\n          \"correct\": false\\n        }\\n      ]\\n    }\\n  ]\\n}'"
      ]
     },
     "execution_count": 4,
     "metadata": {},
     "output_type": "execute_result"
    }
   ],
   "source": [
    "# Function Call기능을 이용하면 실제로 함수가 존재하지 않더라도, 가짜 함수와 함께 함수의 입력 파라미터를 명시함으로써 llm의 출력이 항상 명시한 파라미터 형태로 나오도록 강제할 수 있음\n",
    "\n",
    "# 이렇게 하면 llm을 두번 호출할 필요없음\n",
    "# (기존에는 답변을 생성하기 위해 1번 호출하고, format을 위해 다시 llm을 호출했었음)\n",
    "# 그러나 이 기능은 gpt-3, gpt-4에서만 사용 가능함\n",
    "\n",
    "function = {\n",
    "    \"name\": \"create_quiz\",\n",
    "    \"description\": \"function that takes a list of questions and answers and returns a quiz\",\n",
    "    \"parameters\": {\n",
    "        \"type\": \"object\",\n",
    "        \"properties\": {\n",
    "            \"questions\": {\n",
    "                \"type\": \"array\",\n",
    "                \"items\": {\n",
    "                    \"type\": \"object\",\n",
    "                    \"properties\": {\n",
    "                        \"question\": {\n",
    "                            \"type\": \"string\",\n",
    "                        },\n",
    "                        \"answers\": {\n",
    "                            \"type\": \"array\",\n",
    "                            \"items\": {\n",
    "                                \"type\": \"object\",\n",
    "                                \"properties\": {\n",
    "                                    \"answer\": {\n",
    "                                        \"type\": \"string\",\n",
    "                                    },\n",
    "                                    \"correct\": {\n",
    "                                        \"type\": \"boolean\",\n",
    "                                    },\n",
    "                                },\n",
    "                                \"required\": [\"answer\", \"correct\"],\n",
    "                            },\n",
    "                        },\n",
    "                    },\n",
    "                    \"required\": [\"question\", \"answers\"],\n",
    "                },\n",
    "            }\n",
    "        },\n",
    "        \"required\": [\"questions\"],\n",
    "    },\n",
    "}\n",
    "\n",
    "\n",
    "llm = ChatOpenAI(\n",
    "    temperature=0.1,\n",
    ").bind(\n",
    "    function_call={\n",
    "        \"name\": \"create_quiz\", # llm이 항상 create_quiz (llm의 출력형태를 고정시키기 위해 작성 한 실제로는 존재하지 않는 가짜 함수)를 호출하도록 하기 위해 name 명시\n",
    "    },\n",
    "    functions=[\n",
    "        function,\n",
    "    ],\n",
    ")\n",
    "\n",
    "prompt = PromptTemplate.from_template(\"Make a quiz about {city}\")\n",
    "\n",
    "chain = prompt | llm\n",
    "\n",
    "response = chain.invoke({\"city\": \"rome\"})\n",
    "\n",
    "\n",
    "response = response.additional_kwargs[\"function_call\"][\"arguments\"]\n",
    "\n",
    "response"
   ]
  },
  {
   "cell_type": "code",
   "execution_count": 5,
   "metadata": {},
   "outputs": [
    {
     "name": "stdout",
     "output_type": "stream",
     "text": [
      "{'question': 'What year was Rome founded?', 'answers': [{'answer': '753 BC', 'correct': True}, {'answer': '476 AD', 'correct': False}, {'answer': '1492 AD', 'correct': False}, {'answer': '44 BC', 'correct': False}]}\n",
      "{'question': 'Who was the first emperor of Rome?', 'answers': [{'answer': 'Julius Caesar', 'correct': False}, {'answer': 'Augustus', 'correct': True}, {'answer': 'Nero', 'correct': False}, {'answer': 'Constantine', 'correct': False}]}\n",
      "{'question': 'What was the official language of the Roman Empire?', 'answers': [{'answer': 'Latin', 'correct': True}, {'answer': 'Greek', 'correct': False}, {'answer': 'Italian', 'correct': False}, {'answer': 'Spanish', 'correct': False}]}\n",
      "{'question': 'Who was the legendary founder of Rome?', 'answers': [{'answer': 'Romulus', 'correct': True}, {'answer': 'Remus', 'correct': False}, {'answer': 'Caesar', 'correct': False}, {'answer': 'Hannibal', 'correct': False}]}\n",
      "{'question': 'What was the name of the Roman gladiatorial arena?', 'answers': [{'answer': 'Colosseum', 'correct': True}, {'answer': 'Pantheon', 'correct': False}, {'answer': 'Forum', 'correct': False}, {'answer': 'Circus Maximus', 'correct': False}]}\n"
     ]
    }
   ],
   "source": [
    "for question in json.loads(response)[\"questions\"]:\n",
    "    print(question)"
   ]
  },
  {
   "cell_type": "code",
   "execution_count": null,
   "metadata": {},
   "outputs": [],
   "source": []
  }
 ],
 "metadata": {
  "kernelspec": {
   "display_name": "venv",
   "language": "python",
   "name": "python3"
  },
  "language_info": {
   "codemirror_mode": {
    "name": "ipython",
    "version": 3
   },
   "file_extension": ".py",
   "mimetype": "text/x-python",
   "name": "python",
   "nbconvert_exporter": "python",
   "pygments_lexer": "ipython3",
   "version": "3.11.4"
  }
 },
 "nbformat": 4,
 "nbformat_minor": 2
}
