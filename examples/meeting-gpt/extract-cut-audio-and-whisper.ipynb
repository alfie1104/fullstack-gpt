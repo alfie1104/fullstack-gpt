{
 "cells": [
  {
   "cell_type": "code",
   "execution_count": 2,
   "metadata": {},
   "outputs": [],
   "source": [
    "import subprocess # cmd 명령어를 파이썬코드에서 실행시켜줌\n",
    "from pydub import AudioSegment # pydub을 이용하여 긴 audio파일을 여러개의 짧은 audio파일로 쪼갤 수 있음\n",
    "import math\n",
    "import openai\n",
    "import glob # 디렉토리 안에서 특정한 이름을 갖는 파일을 찾을 수 있음\n",
    "\n",
    "def extract_audio_from_video(video_path, audio_path):\n",
    "    # -i : 입력, -vn : 비디오 제거 (video nope)\n",
    "    command = [\"ffmpeg\",\"-i\",video_path,\"-vn\",audio_path]    \n",
    "    subprocess.run(command)\n",
    "\n",
    "def cut_audio_in_chunks(audio_path, chunk_size, chunks_folder):\n",
    "    track = AudioSegment.from_mp3(audio_path)\n",
    "    chunk_len = chunk_size * 60 * 1000 # ms단위 # chunk_size는 분 단위 시간을 입력\n",
    "    chunks = math.ceil(len(track)/chunk_len)\n",
    "\n",
    "    # audio파일을 특정 시간길이(chunk_len)로 잘라냄\n",
    "    for i in range(chunks):\n",
    "        start_time = i*chunk_len\n",
    "        end_time = (i+1)*chunk_len\n",
    "        chunk = track[start_time:end_time]\n",
    "        chunk.export(f\"{chunks_folder}/chunk_{i}.mp3\",format=\"mp3\")\n",
    "\n",
    "def transcribe_chunks(chunk_folder, destination):\n",
    "    files = glob.glob(f\"{chunk_folder}/*.mp3\")\n",
    "    for file in files:\n",
    "        # # openai.Audio.strascribe의 whisper 모델을 이용하여 오디오에서 텍스트를 추출할 수 있음\n",
    "        # 파일 사용 뒤에 closed 되도록 with문을 이용해서 파일 오픈하겠음\n",
    "        # rb : read as binary 모드, a: append 모드 (문자열을 하나의 파일에 계속 이어붙이기 위해 append모드로 열었음)\n",
    "        with open(file,\"rb\") as audio_file, open(destination,\"a\") as text_file:\n",
    "            transcript = openai.Audio.transcribe(\"whisper-1\", audio_file)\n",
    "            text_file.write(transcript[\"text\"])"
   ]
  },
  {
   "cell_type": "code",
   "execution_count": null,
   "metadata": {},
   "outputs": [],
   "source": [
    "extract_audio_from_video(\"./files/podcast.mp4\",\"./files/podcast.mp3\")"
   ]
  },
  {
   "cell_type": "code",
   "execution_count": 3,
   "metadata": {},
   "outputs": [],
   "source": [
    "cut_audio_in_chunks(\"./files/podcast.mp3\", 10, \"./files/chunks\")"
   ]
  },
  {
   "cell_type": "code",
   "execution_count": 8,
   "metadata": {},
   "outputs": [],
   "source": [
    "transcribe_chunks(\"./files/chunks\",\"./files/transcript.txt\")"
   ]
  }
 ],
 "metadata": {
  "kernelspec": {
   "display_name": "venv",
   "language": "python",
   "name": "python3"
  },
  "language_info": {
   "codemirror_mode": {
    "name": "ipython",
    "version": 3
   },
   "file_extension": ".py",
   "mimetype": "text/x-python",
   "name": "python",
   "nbconvert_exporter": "python",
   "pygments_lexer": "ipython3",
   "version": "3.11.4"
  }
 },
 "nbformat": 4,
 "nbformat_minor": 2
}
