{
 "cells": [
  {
   "cell_type": "code",
   "execution_count": 2,
   "metadata": {},
   "outputs": [],
   "source": [
    "import subprocess # cmd 명령어를 파이썬코드에서 실행시켜줌\n",
    "\n",
    "def extract_audio_from_video(video_path, audio_path):\n",
    "    # -i : 입력 파일 경로, -vn : 비디오 제거\n",
    "    command = [\"ffmpeg\",\"-i\",video_path,\"-vn\",audio_path]    \n",
    "    subprocess.run(command)\n",
    "\n",
    "extract_audio_from_video(\"./files/podcast.mp4\",\"./files/podcast.mp3\")"
   ]
  }
 ],
 "metadata": {
  "kernelspec": {
   "display_name": "venv",
   "language": "python",
   "name": "python3"
  },
  "language_info": {
   "codemirror_mode": {
    "name": "ipython",
    "version": 3
   },
   "file_extension": ".py",
   "mimetype": "text/x-python",
   "name": "python",
   "nbconvert_exporter": "python",
   "pygments_lexer": "ipython3",
   "version": "3.11.4"
  }
 },
 "nbformat": 4,
 "nbformat_minor": 2
}
