{
 "cells": [
  {
   "cell_type": "code",
   "execution_count": 2,
   "metadata": {},
   "outputs": [
    {
     "name": "stdout",
     "output_type": "stream",
     "text": [
      "Here is a simple recipe for making soju at home:\n",
      "\n",
      "Ingredients:\n",
      "- 1 cup of rice\n",
      "- 1 cup of nuruk (Korean fermentation starter)\n",
      "- 8 cups of water\n",
      "- 1 tablespoon of yeast\n",
      "- 1 tablespoon of sugar (optional)\n",
      "\n",
      "Instructions:\n",
      "1. Rinse the rice thoroughly and soak it in water for about 1 hour.\n",
      "2. Drain the rice and transfer it to a large pot. Add 8 cups of water and bring it to a boil.\n",
      "3. Reduce the heat to low and simmer the rice for about 30 minutes or until it becomes soft and mushy.\n",
      "4. Remove the pot from heat and let it cool down to room temperature.\n",
      "5. Once the rice has cooled, transfer it to a large container or jar. Add the nuruk and mix well.\n",
      "6. Dissolve the yeast in a small amount of warm water and add it to the rice mixture. Stir well to combine.\n",
      "7. Cover the container with a clean cloth or plastic wrap and let it ferment for about 7-10 days at room temperature.\n",
      "8. After the fermentation period, strain the mixture through a cheesecloth or fine mesh strainer to remove any solids.\n",
      "9. If desired, you can add sugar to sweeten the soju. Stir well until the sugar is completely dissolved.\n",
      "10. Transfer the soju to clean bottles or jars and refrigerate for at least 24 hours before serving.\n",
      "11. Serve the homemade soju chilled and enjoy responsibly.\n",
      "\n",
      "Note: This recipe is a simplified version of traditional soju-making process. Commercially produced soju often undergoes additional distillation and filtration steps. Here is a basic recipe for making bread:\n",
      "\n",
      "Ingredients:\n",
      "- 4 cups all-purpose flour\n",
      "- 2 teaspoons active dry yeast\n",
      "- 2 teaspoons salt\n",
      "- 2 teaspoons sugar\n",
      "- 2 cups warm water\n",
      "- 2 tablespoons olive oil\n",
      "\n",
      "Instructions:\n",
      "1. In a large mixing bowl, combine the warm water and sugar. Stir until the sugar is dissolved.\n",
      "2. Sprinkle the yeast over the water and let it sit for about 5 minutes, or until it becomes frothy.\n",
      "3. Add the flour, salt, and olive oil to the bowl. Mix until a dough forms.\n",
      "4. Transfer the dough to a floured surface and knead it for about 10 minutes, or until it becomes smooth and elastic.\n",
      "5. Place the dough in a greased bowl and cover it with a clean kitchen towel. Let it rise in a warm place for about 1 hour, or until it doubles in size.\n",
      "6. Preheat the oven to 425°F (220°C). Punch down the dough and shape it into a loaf.\n",
      "7. Place the loaf on a greased baking sheet or in a greased loaf pan. Cover it with the kitchen towel and let it rise for another 30 minutes.\n",
      "8. Bake the bread in the preheated oven for about 25-30 minutes, or until it turns golden brown and sounds hollow when tapped on the bottom.\n",
      "9. Remove the bread from the oven and let it cool on a wire rack before slicing and serving.\n",
      "\n",
      "Note: This is a basic bread recipe, and you can customize it by adding ingredients like herbs, cheese, or seeds to the dough for different flavors.\n",
      "Tokens Used: 701\n",
      "\tPrompt Tokens: 27\n",
      "\tCompletion Tokens: 674\n",
      "Successful Requests: 2\n",
      "Total Cost (USD): $0.0013885\n"
     ]
    }
   ],
   "source": [
    "from langchain.chat_models import ChatOpenAI\n",
    "from langchain.callbacks import get_openai_callback\n",
    "\n",
    "chat = ChatOpenAI(\n",
    "    temperature=0.1,\n",
    ")\n",
    "\n",
    "# 과금될 비용을 알기 위해 with 라인을 다음과 같이 선언하고 해당 라인 안에서 코드를 실행시키면 됨\n",
    "with get_openai_callback() as usage:\n",
    "    # with블록 안에 있는 모든 코드들은 usage코드에 포함됨\n",
    "    a = chat.predict(\"What is the recipe for soju\")\n",
    "    b = chat.predict(\"What is the recipe for bread\")\n",
    "    print(a,b, \"\\n\")\n",
    "    print(usage)\n",
    "    # print(usage.total_cost) #cost만 알고 싶은 경우"
   ]
  },
  {
   "cell_type": "code",
   "execution_count": null,
   "metadata": {},
   "outputs": [],
   "source": []
  }
 ],
 "metadata": {
  "kernelspec": {
   "display_name": "venv",
   "language": "python",
   "name": "python3"
  },
  "language_info": {
   "codemirror_mode": {
    "name": "ipython",
    "version": 3
   },
   "file_extension": ".py",
   "mimetype": "text/x-python",
   "name": "python",
   "nbconvert_exporter": "python",
   "pygments_lexer": "ipython3",
   "version": "3.11.6"
  }
 },
 "nbformat": 4,
 "nbformat_minor": 2
}
