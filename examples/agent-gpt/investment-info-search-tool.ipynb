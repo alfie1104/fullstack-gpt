{
 "cells": [
  {
   "cell_type": "code",
   "execution_count": 1,
   "metadata": {},
   "outputs": [
    {
     "name": "stdout",
     "output_type": "stream",
     "text": [
      "\n",
      "\n",
      "\u001b[1m> Entering new AgentExecutor chain...\u001b[0m\n"
     ]
    },
    {
     "name": "stderr",
     "output_type": "stream",
     "text": [
      "Authentication failed for https://api.smith.langchain.com/runs. HTTPError('401 Client Error: Unauthorized for url: https://api.smith.langchain.com/runs', '{\"detail\":\"Invalid API key\"}')\n"
     ]
    },
    {
     "name": "stdout",
     "output_type": "stream",
     "text": [
      "\u001b[32;1m\u001b[1;3m\n",
      "Invoking: `StockMarketSymbolSearchTool` with `{'query': 'Pfizer stock market symbol'}`\n",
      "\n",
      "\n",
      "\u001b[0m"
     ]
    },
    {
     "name": "stderr",
     "output_type": "stream",
     "text": [
      "d:\\project_python\\fullstack-gpt\\venv\\Lib\\site-packages\\curl_cffi\\aio.py:38: RuntimeWarning: \n",
      "    Proactor event loop does not implement add_reader family of methods required.\n",
      "    Registering an additional selector thread for add_reader support.\n",
      "    To avoid this warning use:\n",
      "        asyncio.set_event_loop_policy(WindowsSelectorEventLoopPolicy())\n",
      "    \n",
      "  warnings.warn(PROACTOR_WARNING, RuntimeWarning)\n",
      "Authentication failed for https://api.smith.langchain.com/runs/f028d802-d500-4266-bc86-f7cf89b73a40. HTTPError('401 Client Error: Unauthorized for url: https://api.smith.langchain.com/runs/f028d802-d500-4266-bc86-f7cf89b73a40', '{\"detail\":\"Invalid API key\"}')\n"
     ]
    },
    {
     "name": "stdout",
     "output_type": "stream",
     "text": [
      "\u001b[36;1m\u001b[1;3mTicker Symbol PFE Full Company Profile Financial Performance In 2022, Pfizer's revenue was $100.33 billion, an increase of 23.43% compared to the previous year's $81.29 billion. Earnings were $31.37 billion, an increase of 42.74%. Financial Statements Analyst Forecast According to 15 analysts, the average rating for PFE stock is \"Buy.\" January 11, 2024 · 3 min read Post-pandemic, the global bio-pharmaceutical sector, often overlooked, presents undervalued opportunities, notably in blue-chip stocks like Pfizer (NYSE: PFE ).... Pfizer is expected to post earnings of $0.53 per share for the current quarter, representing a year-over-year change of -56.9%. Over the last 30 days, the Zacks Consensus Estimate has changed -12. ... Pfizer MarketRank™ Stock Analysis Analyst Rating Hold 2.33 Rating Score Upside/ Downside 33.7% Upside $36.93 Price Target Price vs Fair Value Sustainability Trailing Returns Financials Valuation Operating Performance Dividends Ownership Executive $27.62 +0.11 (0.40%) View Full Chart As of Feb 16, 2024 4:00pm Delayed...\u001b[0m\u001b[32;1m\u001b[1;3m\n",
      "Invoking: `CompanyOverview` with `{'symbol': 'PFE'}`\n",
      "\n",
      "\n",
      "\u001b[0m\u001b[33;1m\u001b[1;3m{'Symbol': 'PFE', 'AssetType': 'Common Stock', 'Name': 'Pfizer Inc', 'Description': 'Pfizer Inc. is an American multinational pharmaceutical and biotechnology corporation headquartered on 42nd Street in Manhattan, New York City. The name of the company commemorates its co-founder, Charles Pfizer (1824-1906). Pfizer develops and produces medicines and vaccines for immunology, oncology, cardiology, endocrinology, and neurology. The company has several blockbuster drugs or products that each generate more than 1 billion USD in annual revenues.', 'CIK': '78003', 'Exchange': 'NYSE', 'Currency': 'USD', 'Country': 'USA', 'Sector': 'LIFE SCIENCES', 'Industry': 'PHARMACEUTICAL PREPARATIONS', 'Address': '235 E 42ND ST, NEW YORK, NY, US', 'FiscalYearEnd': 'December', 'LatestQuarter': '2023-09-30', 'MarketCapitalization': '156236169000', 'EBITDA': '11381665000', 'PERatio': '74.78', 'PEGRatio': '1.173', 'BookValue': '17.17', 'DividendPerShare': '1.64', 'DividendYield': '0.0607', 'EPS': '0.37', 'RevenuePerShareTTM': '10.37', 'ProfitMargin': '0.0362', 'OperatingMarginTTM': '-0.0856', 'ReturnOnAssetsTTM': '0.0539', 'ReturnOnEquityTTM': '0.0225', 'RevenueTTM': '58496000000', 'GrossProfitTTM': '66233000000', 'DilutedEPSTTM': '0.37', 'QuarterlyEarningsGrowthYOY': '-0.764', 'QuarterlyRevenueGrowthYOY': '-0.413', 'AnalystTargetPrice': '32.14', 'AnalystRatingStrongBuy': '3', 'AnalystRatingBuy': '7', 'AnalystRatingHold': '15', 'AnalystRatingSell': '0', 'AnalystRatingStrongSell': '0', 'TrailingPE': '74.78', 'ForwardPE': '12.47', 'PriceToSalesRatioTTM': '2.671', 'PriceToBookRatio': '1.612', 'EVToRevenue': '3.003', 'EVToEBITDA': '21.96', 'Beta': '0.568', '52WeekHigh': '40.15', '52WeekLow': '25.38', '50DayMovingAverage': '28.0', '200DayMovingAverage': '33.0', 'SharesOutstanding': '5646410000', 'DividendDate': '2024-03-01', 'ExDividendDate': '2024-01-25'}\u001b[0m\u001b[32;1m\u001b[1;3m\n",
      "Invoking: `CompanyIncomeStatement` with `{'symbol': 'PFE'}`\n",
      "\n",
      "\n",
      "\u001b[0m\u001b[38;5;200m\u001b[1;3m[{'fiscalDateEnding': '2022-12-31', 'reportedCurrency': 'USD', 'grossProfit': '47907000000', 'totalRevenue': '100330000000', 'costOfRevenue': '52423000000', 'costofGoodsAndServicesSold': '34344000000', 'operatingIncome': '16368000000', 'sellingGeneralAndAdministrative': '13677000000', 'researchAndDevelopment': '12381000000', 'operatingExpenses': '31539000000', 'investmentIncomeNet': '251000000', 'netInterestIncome': '-1238000000', 'interestIncome': '1824000000', 'interestExpense': '1238000000', 'nonInterestIncome': '126000000', 'otherNonOperatingIncome': '-217000000', 'depreciation': 'None', 'depreciationAndAmortization': '3600000000', 'incomeBeforeTax': '34700000000', 'incomeTaxExpense': '3328000000', 'interestAndDebtExpense': '1238000000', 'netIncomeFromContinuingOperations': '31401000000', 'comprehensiveIncomeNetOfTax': '28965000000', 'ebit': '35938000000', 'ebitda': '39538000000', 'netIncome': '31372000000'}, {'fiscalDateEnding': '2021-12-31', 'reportedCurrency': 'USD', 'grossProfit': '34573000000', 'totalRevenue': '81288000000', 'costOfRevenue': '45545000000', 'costofGoodsAndServicesSold': '30821000000', 'operatingIncome': '3390000000', 'sellingGeneralAndAdministrative': '12703000000', 'researchAndDevelopment': '13829000000', 'operatingExpenses': '31183000000', 'investmentIncomeNet': '36000000', 'netInterestIncome': '-1291000000', 'interestIncome': '560000000', 'interestExpense': '1291000000', 'nonInterestIncome': '81368000000', 'otherNonOperatingIncome': '4878000000', 'depreciation': 'None', 'depreciationAndAmortization': '3700000000', 'incomeBeforeTax': '23831000000', 'incomeTaxExpense': '1852000000', 'interestAndDebtExpense': '1291000000', 'netIncomeFromContinuingOperations': '22414000000', 'comprehensiveIncomeNetOfTax': '21393000000', 'ebit': '25122000000', 'ebitda': '28822000000', 'netIncome': '21979000000'}, {'fiscalDateEnding': '2020-12-31', 'reportedCurrency': 'USD', 'grossProfit': '18171000000', 'totalRevenue': '41651000000', 'costOfRevenue': '22352000000', 'costofGoodsAndServicesSold': '8484000000', 'operatingIncome': '-5395000000', 'sellingGeneralAndAdministrative': '11597000000', 'researchAndDevelopment': '9405000000', 'operatingExpenses': '23566000000', 'investmentIncomeNet': '73000000', 'netInterestIncome': '-1449000000', 'interestIncome': '538000000', 'interestExpense': '1449000000', 'nonInterestIncome': '41932000000', 'otherNonOperatingIncome': '-1213000000', 'depreciation': 'None', 'depreciationAndAmortization': '3400000000', 'incomeBeforeTax': '9529000000', 'incomeTaxExpense': '370000000', 'interestAndDebtExpense': '1449000000', 'netIncomeFromContinuingOperations': '6630000000', 'comprehensiveIncomeNetOfTax': '9639000000', 'ebit': '10978000000', 'ebitda': '14378000000', 'netIncome': '9159000000'}, {'fiscalDateEnding': '2019-12-31', 'reportedCurrency': 'USD', 'grossProfit': '21948000000', 'totalRevenue': '50108000000', 'costOfRevenue': '28160000000', 'costofGoodsAndServicesSold': '8054000000', 'operatingIncome': '-5052000000', 'sellingGeneralAndAdministrative': '12726000000', 'researchAndDevelopment': '8650000000', 'operatingExpenses': '27000000000', 'investmentIncomeNet': '226000000', 'netInterestIncome': '-1574000000', 'interestIncome': '-1000000', 'interestExpense': '1573000000', 'nonInterestIncome': '51637000000', 'otherNonOperatingIncome': '-3497000000', 'depreciation': 'None', 'depreciationAndAmortization': '4500000000', 'incomeBeforeTax': '16609000000', 'incomeTaxExpense': '583000000', 'interestAndDebtExpense': '1712000000', 'netIncomeFromContinuingOperations': '10708000000', 'comprehensiveIncomeNetOfTax': '15908000000', 'ebit': '18182000000', 'ebitda': '22682000000', 'netIncome': '16026000000'}, {'fiscalDateEnding': '2018-12-31', 'reportedCurrency': 'USD', 'grossProfit': '22784000000', 'totalRevenue': '52356000000', 'costOfRevenue': '29572000000', 'costofGoodsAndServicesSold': '8987000000', 'operatingIncome': '-3920000000', 'sellingGeneralAndAdministrative': '12612000000', 'researchAndDevelopment': '8006000000', 'operatingExpenses': '26704000000', 'investmentIncomeNet': '333000000', 'netInterestIncome': '-1316000000', 'interestIncome': '333000000', 'interestExpense': '1316000000', 'nonInterestIncome': '53672000000', 'otherNonOperatingIncome': '-2077000000', 'depreciation': 'None', 'depreciationAndAmortization': '4893000000', 'incomeBeforeTax': '10887000000', 'incomeTaxExpense': '-266000000', 'interestAndDebtExpense': '1319000000', 'netIncomeFromContinuingOperations': '3825000000', 'comprehensiveIncomeNetOfTax': '9198000000', 'ebit': '12203000000', 'ebitda': '21412000000', 'netIncome': '11153000000'}, {'fiscalDateEnding': '2017-12-31', 'reportedCurrency': 'USD', 'grossProfit': '23926000000', 'totalRevenue': '50828000000', 'costOfRevenue': '26902000000', 'costofGoodsAndServicesSold': '11228000000', 'operatingIncome': '367000000', 'sellingGeneralAndAdministrative': '14804000000', 'researchAndDevelopment': '7657000000', 'operatingExpenses': '23507000000', 'investmentIncomeNet': '391000000', 'netInterestIncome': '-1270000000', 'interestIncome': '391000000', 'interestExpense': '1270000000', 'nonInterestIncome': '-947000000', 'otherNonOperatingIncome': '-1416000000', 'depreciation': 'None', 'depreciationAndAmortization': '4758000000', 'incomeBeforeTax': '12259000000', 'incomeTaxExpense': '-9049000000', 'interestAndDebtExpense': '2269000000', 'netIncomeFromContinuingOperations': '21306000000', 'comprehensiveIncomeNetOfTax': '23023000000', 'ebit': '13529000000', 'ebitda': '20237000000', 'netIncome': '21308000000'}, {'fiscalDateEnding': '2016-12-31', 'reportedCurrency': 'USD', 'grossProfit': '22021000000', 'totalRevenue': '52231000000', 'costOfRevenue': '30210000000', 'costofGoodsAndServicesSold': '12322000000', 'operatingIncome': '-3732000000', 'sellingGeneralAndAdministrative': '14844000000', 'researchAndDevelopment': '7872000000', 'operatingExpenses': '25753000000', 'investmentIncomeNet': '470000000', 'netInterestIncome': '-1186000000', 'interestIncome': '470000000', 'interestExpense': '1186000000', 'nonInterestIncome': '-312000000', 'otherNonOperatingIncome': '-3794000000', 'depreciation': 'None', 'depreciationAndAmortization': '4056000000', 'incomeBeforeTax': '8338000000', 'incomeTaxExpense': '1123000000', 'interestAndDebtExpense': '1498000000', 'netIncomeFromContinuingOperations': '7198000000', 'comprehensiveIncomeNetOfTax': '5701000000', 'ebit': '9524000000', 'ebitda': '19076000000', 'netIncome': '7215000000'}, {'fiscalDateEnding': '2015-12-31', 'reportedCurrency': 'USD', 'grossProfit': '17663000000', 'totalRevenue': '47768000000', 'costOfRevenue': '30105000000', 'costofGoodsAndServicesSold': '9648000000', 'operatingIncome': '-10484000000', 'sellingGeneralAndAdministrative': '14809000000', 'researchAndDevelopment': '7690000000', 'operatingExpenses': '28147000000', 'investmentIncomeNet': '471000000', 'netInterestIncome': '-1199000000', 'interestIncome': '1597000000', 'interestExpense': '1199000000', 'nonInterestIncome': '-806000000', 'otherNonOperatingIncome': '-2860000000', 'depreciation': 'None', 'depreciationAndAmortization': '3800000000', 'incomeBeforeTax': '8950000000', 'incomeTaxExpense': '1990000000', 'interestAndDebtExpense': '1199000000', 'netIncomeFromContinuingOperations': '6949000000', 'comprehensiveIncomeNetOfTax': '4755000000', 'ebit': '10149000000', 'ebitda': '13949000000', 'netIncome': '6960000000'}, {'fiscalDateEnding': '2014-12-31', 'reportedCurrency': 'USD', 'grossProfit': '20754000000', 'totalRevenue': '49247000000', 'costOfRevenue': '28493000000', 'costofGoodsAndServicesSold': '9577000000', 'operatingIncome': '-6555000000', 'sellingGeneralAndAdministrative': '14097000000', 'researchAndDevelopment': '8393000000', 'operatingExpenses': '27309000000', 'investmentIncomeNet': '425000000', 'netInterestIncome': '-1360000000', 'interestIncome': 'None', 'interestExpense': '1360000000', 'nonInterestIncome': 'None', 'otherNonOperatingIncome': '-1009000000', 'depreciation': 'None', 'depreciationAndAmortization': '4100000000', 'incomeBeforeTax': '12255000000', 'incomeTaxExpense': '3120000000', 'interestAndDebtExpense': '1360000000', 'netIncomeFromContinuingOperations': '9087000000', 'comprehensiveIncomeNetOfTax': '5090000000', 'ebit': '13615000000', 'ebitda': '17715000000', 'netIncome': '9135000000'}, {'fiscalDateEnding': '2013-12-31', 'reportedCurrency': 'USD', 'grossProfit': '20944000000', 'totalRevenue': '50893000000', 'costOfRevenue': '29949000000', 'costofGoodsAndServicesSold': '9586000000', 'operatingIncome': '-6044000000', 'sellingGeneralAndAdministrative': '14355000000', 'researchAndDevelopment': '6678000000', 'operatingExpenses': '28082000000', 'investmentIncomeNet': '403000000', 'netInterestIncome': '-1011000000', 'interestIncome': '403000000', 'interestExpense': '1414000000', 'nonInterestIncome': '320000000', 'otherNonOperatingIncome': '532000000', 'depreciation': 'None', 'depreciationAndAmortization': '4800000000', 'incomeBeforeTax': '26309000000', 'incomeTaxExpense': '4306000000', 'interestAndDebtExpense': '1414000000', 'netIncomeFromContinuingOperations': '11380000000', 'comprehensiveIncomeNetOfTax': '24658000000', 'ebit': '27723000000', 'ebitda': '32523000000', 'netIncome': '22003000000'}, {'fiscalDateEnding': '2012-12-31', 'reportedCurrency': 'USD', 'grossProfit': '22350000000', 'totalRevenue': '57553000000', 'costOfRevenue': '35203000000', 'costofGoodsAndServicesSold': '9821000000', 'operatingIncome': '-9870000000', 'sellingGeneralAndAdministrative': '15171000000', 'researchAndDevelopment': '7870000000', 'operatingExpenses': '33692000000', 'investmentIncomeNet': '382000000', 'netInterestIncome': '-1140000000', 'interestIncome': '382000000', 'interestExpense': '1522000000', 'nonInterestIncome': '52000000', 'otherNonOperatingIncome': '-4022000000', 'depreciation': 'None', 'depreciationAndAmortization': '5400000000', 'incomeBeforeTax': '16791000000', 'incomeTaxExpense': '2221000000', 'interestAndDebtExpense': '1524000000', 'netIncomeFromContinuingOperations': '8993000000', 'comprehensiveIncomeNetOfTax': '12746000000', 'ebit': '18313000000', 'ebitda': '23713000000', 'netIncome': '14570000000'}, {'fiscalDateEnding': '2011-12-31', 'reportedCurrency': 'USD', 'grossProfit': '23631000000', 'totalRevenue': '65824000000', 'costOfRevenue': '42193000000', 'costofGoodsAndServicesSold': '12500000000', 'operatingIncome': '-13008000000', 'sellingGeneralAndAdministrative': '17581000000', 'researchAndDevelopment': '9112000000', 'operatingExpenses': '38319000000', 'investmentIncomeNet': 'None', 'netInterestIncome': '-1225000000', 'interestIncome': '456000000', 'interestExpense': '1681000000', 'nonInterestIncome': '1000000', 'otherNonOperatingIncome': '-139000000', 'depreciation': 'None', 'depreciationAndAmortization': '5585000000', 'incomeBeforeTax': '13630000000', 'incomeTaxExpense': '3621000000', 'interestAndDebtExpense': '1681000000', 'netIncomeFromContinuingOperations': '7820000000', 'comprehensiveIncomeNetOfTax': '9320000000', 'ebit': '15311000000', 'ebitda': '20896000000', 'netIncome': '10009000000'}, {'fiscalDateEnding': '2010-12-31', 'reportedCurrency': 'USD', 'grossProfit': '21035000000', 'totalRevenue': '66010000000', 'costOfRevenue': '44975000000', 'costofGoodsAndServicesSold': '14788000000', 'operatingIncome': '-16937000000', 'sellingGeneralAndAdministrative': '18973000000', 'researchAndDevelopment': '9538000000', 'operatingExpenses': '39771000000', 'investmentIncomeNet': 'None', 'netInterestIncome': '-1799000000', 'interestIncome': '-2000000', 'interestExpense': '1797000000', 'nonInterestIncome': '262000000', 'otherNonOperatingIncome': '147000000', 'depreciation': 'None', 'depreciationAndAmortization': '5404000000', 'incomeBeforeTax': '9410000000', 'incomeTaxExpense': '1153000000', 'interestAndDebtExpense': '1799000000', 'netIncomeFromContinuingOperations': '8287000000', 'comprehensiveIncomeNetOfTax': '4265000000', 'ebit': '11207000000', 'ebitda': '16611000000', 'netIncome': '8257000000'}, {'fiscalDateEnding': '2009-12-31', 'reportedCurrency': 'USD', 'grossProfit': '23369000000', 'totalRevenue': '50009000000', 'costOfRevenue': '26640000000', 'costofGoodsAndServicesSold': '8459000000', 'operatingIncome': '-2296000000', 'sellingGeneralAndAdministrative': '14752000000', 'researchAndDevelopment': '7913000000', 'operatingExpenses': '25665000000', 'investmentIncomeNet': 'None', 'netInterestIncome': '-1233000000', 'interestIncome': '-1000000', 'interestExpense': '1232000000', 'nonInterestIncome': '188000000', 'otherNonOperatingIncome': '-62000000', 'depreciation': 'None', 'depreciationAndAmortization': '2877000000', 'incomeBeforeTax': '10780000000', 'incomeTaxExpense': '2145000000', 'interestAndDebtExpense': '1233000000', 'netIncomeFromContinuingOperations': '8521000000', 'comprehensiveIncomeNetOfTax': '22405000000', 'ebit': '12012000000', 'ebitda': '14889000000', 'netIncome': '8635000000'}]\u001b[0m\u001b[32;1m\u001b[1;3m\n",
      "Invoking: `CompanyStockPerformance` with `{'symbol': 'PFE'}`\n",
      "\n",
      "\n",
      "\u001b[0m\u001b[36;1m\u001b[1;3m{'Meta Data': {'1. Information': 'Daily Prices (open, high, low, close) and Volumes', '2. Symbol': 'PFE', '3. Last Refreshed': '2024-02-22', '4. Output Size': 'Compact', '5. Time Zone': 'US/Eastern'}, 'Time Series (Daily)': {'2024-02-22': {'1. open': '27.5900', '2. high': '27.6950', '3. low': '27.1850', '4. close': '27.5500', '5. volume': '31767870'}, '2024-02-21': {'1. open': '27.6000', '2. high': '27.6750', '3. low': '27.3550', '4. close': '27.6700', '5. volume': '27370649'}, '2024-02-20': {'1. open': '27.6100', '2. high': '28.1400', '3. low': '27.5200', '4. close': '27.5900', '5. volume': '34232007'}, '2024-02-16': {'1. open': '27.5500', '2. high': '27.8900', '3. low': '27.2100', '4. close': '27.6200', '5. volume': '35935327'}, '2024-02-15': {'1. open': '27.2500', '2. high': '27.8050', '3. low': '27.2200', '4. close': '27.5100', '5. volume': '36111622'}, '2024-02-14': {'1. open': '27.0100', '2. high': '27.1700', '3. low': '26.9100', '4. close': '27.1100', '5. volume': '25270224'}, '2024-02-13': {'1. open': '27.5400', '2. high': '27.8300', '3. low': '26.8600', '4. close': '26.9700', '5. volume': '37927457'}, '2024-02-12': {'1. open': '27.5400', '2. high': '28.0200', '3. low': '27.5200', '4. close': '27.6600', '5. volume': '30323717'}, '2024-02-09': {'1. open': '27.5600', '2. high': '27.5900', '3. low': '27.3800', '4. close': '27.5600', '5. volume': '29062706'}, '2024-02-08': {'1. open': '27.5600', '2. high': '27.6900', '3. low': '27.4100', '4. close': '27.5700', '5. volume': '29048353'}, '2024-02-07': {'1. open': '27.5500', '2. high': '27.6500', '3. low': '27.2950', '4. close': '27.5600', '5. volume': '36843007'}, '2024-02-06': {'1. open': '26.6600', '2. high': '27.7250', '3. low': '26.5700', '4. close': '27.5000', '5. volume': '56994489'}, '2024-02-05': {'1. open': '26.9400', '2. high': '26.9400', '3. low': '26.5200', '4. close': '26.5700', '5. volume': '42633401'}, '2024-02-02': {'1. open': '27.1800', '2. high': '27.2000', '3. low': '26.6900', '4. close': '26.9300', '5. volume': '51718525'}, '2024-02-01': {'1. open': '27.1000', '2. high': '27.3250', '3. low': '26.7300', '4. close': '27.2900', '5. volume': '53882960'}, '2024-01-31': {'1. open': '27.1700', '2. high': '27.5103', '3. low': '26.7800', '4. close': '27.0800', '5. volume': '81192099'}, '2024-01-30': {'1. open': '27.8900', '2. high': '28.3700', '3. low': '26.9500', '4. close': '27.0200', '5. volume': '86072429'}, '2024-01-29': {'1. open': '27.5200', '2. high': '27.6300', '3. low': '27.3100', '4. close': '27.4800', '5. volume': '67082715'}, '2024-01-26': {'1. open': '27.6300', '2. high': '27.9100', '3. low': '27.3600', '4. close': '27.4700', '5. volume': '47073756'}, '2024-01-25': {'1. open': '27.8200', '2. high': '27.9200', '3. low': '27.4450', '4. close': '27.4700', '5. volume': '47605546'}, '2024-01-24': {'1. open': '28.5400', '2. high': '28.7750', '3. low': '28.3300', '4. close': '28.3300', '5. volume': '38304799'}, '2024-01-23': {'1. open': '28.4400', '2. high': '28.6500', '3. low': '28.1500', '4. close': '28.4300', '5. volume': '33466651'}, '2024-01-22': {'1. open': '28.3200', '2. high': '28.6200', '3. low': '27.9300', '4. close': '28.3100', '5. volume': '41663945'}, '2024-01-19': {'1. open': '28.0300', '2. high': '28.3800', '3. low': '27.9300', '4. close': '28.2800', '5. volume': '35549293'}, '2024-01-18': {'1. open': '28.0400', '2. high': '28.1300', '3. low': '27.6000', '4. close': '28.0900', '5. volume': '50321148'}, '2024-01-17': {'1. open': '28.1600', '2. high': '28.5300', '3. low': '27.9300', '4. close': '28.1500', '5. volume': '33312583'}, '2024-01-16': {'1. open': '28.6000', '2. high': '28.7200', '3. low': '28.2200', '4. close': '28.3200', '5. volume': '38825982'}, '2024-01-12': {'1. open': '28.4600', '2. high': '28.9400', '3. low': '28.4400', '4. close': '28.7000', '5. volume': '30373486'}, '2024-01-11': {'1. open': '28.8300', '2. high': '28.9150', '3. low': '28.2700', '4. close': '28.4000', '5. volume': '46884712'}, '2024-01-10': {'1. open': '29.3600', '2. high': '29.3900', '3. low': '28.8750', '4. close': '28.9900', '5. volume': '37413289'}, '2024-01-09': {'1. open': '29.6000', '2. high': '29.8600', '3. low': '29.3200', '4. close': '29.4000', '5. volume': '39856903'}, '2024-01-08': {'1. open': '29.3600', '2. high': '29.6800', '3. low': '29.1701', '4. close': '29.5800', '5. volume': '32972133'}, '2024-01-05': {'1. open': '29.0200', '2. high': '29.4900', '3. low': '28.7500', '4. close': '29.4700', '5. volume': '33268233'}, '2024-01-04': {'1. open': '29.7900', '2. high': '29.9500', '3. low': '29.0300', '4. close': '29.0900', '5. volume': '45558159'}, '2024-01-03': {'1. open': '30.0000', '2. high': '30.0359', '3. low': '29.4100', '4. close': '29.7300', '5. volume': '43426495'}, '2024-01-02': {'1. open': '28.8800', '2. high': '30.2788', '3. low': '28.8300', '4. close': '29.7300', '5. volume': '57948706'}, '2023-12-29': {'1. open': '28.7800', '2. high': '28.8689', '3. low': '28.5400', '4. close': '28.7900', '5. volume': '30363079'}, '2023-12-28': {'1. open': '28.6100', '2. high': '29.0300', '3. low': '28.5819', '4. close': '28.7900', '5. volume': '30472890'}, '2023-12-27': {'1. open': '28.4700', '2. high': '28.7299', '3. low': '28.3100', '4. close': '28.6100', '5. volume': '34519261'}, '2023-12-26': {'1. open': '28.4250', '2. high': '28.5300', '3. low': '28.2500', '4. close': '28.4100', '5. volume': '30119121'}, '2023-12-22': {'1. open': '28.4400', '2. high': '28.7900', '3. low': '28.1800', '4. close': '28.4000', '5. volume': '35162307'}, '2023-12-21': {'1. open': '27.8600', '2. high': '28.3600', '3. low': '27.7800', '4. close': '28.3100', '5. volume': '51056623'}, '2023-12-20': {'1. open': '28.1900', '2. high': '28.2600', '3. low': '27.6100', '4. close': '27.6300', '5. volume': '56184326'}, '2023-12-19': {'1. open': '27.2800', '2. high': '28.2400', '3. low': '27.2700', '4. close': '28.1600', '5. volume': '69035018'}, '2023-12-18': {'1. open': '26.9200', '2. high': '27.3000', '3. low': '26.7200', '4. close': '27.0600', '5. volume': '63329379'}, '2023-12-15': {'1. open': '26.1300', '2. high': '26.9894', '3. low': '26.0800', '4. close': '26.6300', '5. volume': '138388401'}, '2023-12-14': {'1. open': '26.7600', '2. high': '27.3150', '3. low': '26.0100', '4. close': '26.1300', '5. volume': '101889806'}, '2023-12-13': {'1. open': '26.2800', '2. high': '26.7300', '3. low': '25.7600', '4. close': '26.6600', '5. volume': '158100678'}, '2023-12-12': {'1. open': '28.6200', '2. high': '28.8600', '3. low': '28.3500', '4. close': '28.5800', '5. volume': '48587531'}, '2023-12-11': {'1. open': '28.7800', '2. high': '28.8100', '3. low': '28.4350', '4. close': '28.6400', '5. volume': '37833862'}, '2023-12-08': {'1. open': '28.6500', '2. high': '28.9650', '3. low': '28.5900', '4. close': '28.7800', '5. volume': '31890740'}, '2023-12-07': {'1. open': '28.8200', '2. high': '28.8950', '3. low': '28.5000', '4. close': '28.6300', '5. volume': '35782909'}, '2023-12-06': {'1. open': '29.0900', '2. high': '29.4000', '3. low': '28.7150', '4. close': '28.7900', '5. volume': '32350406'}, '2023-12-05': {'1. open': '29.2100', '2. high': '29.6000', '3. low': '29.0700', '4. close': '29.0900', '5. volume': '39853005'}, '2023-12-04': {'1. open': '29.0200', '2. high': '29.6400', '3. low': '29.0200', '4. close': '29.2800', '5. volume': '47410449'}, '2023-12-01': {'1. open': '28.9700', '2. high': '29.4000', '3. low': '28.3000', '4. close': '28.9100', '5. volume': '103624040'}, '2023-11-30': {'1. open': '30.3100', '2. high': '30.5100', '3. low': '29.9600', '4. close': '30.4700', '5. volume': '45356593'}, '2023-11-29': {'1. open': '29.7700', '2. high': '30.2200', '3. low': '29.7250', '4. close': '30.0800', '5. volume': '26185160'}, '2023-11-28': {'1. open': '30.1100', '2. high': '30.1100', '3. low': '29.6350', '4. close': '29.6900', '5. volume': '29497713'}, '2023-11-27': {'1. open': '30.7500', '2. high': '30.7500', '3. low': '30.0300', '4. close': '30.1400', '5. volume': '26066748'}, '2023-11-24': {'1. open': '30.3800', '2. high': '30.7000', '3. low': '30.3800', '4. close': '30.5000', '5. volume': '11129739'}, '2023-11-22': {'1. open': '30.3900', '2. high': '30.5769', '3. low': '30.1400', '4. close': '30.3200', '5. volume': '19230183'}, '2023-11-21': {'1. open': '30.0200', '2. high': '30.3600', '3. low': '29.7600', '4. close': '30.3000', '5. volume': '25988736'}, '2023-11-20': {'1. open': '29.9000', '2. high': '30.1400', '3. low': '29.7600', '4. close': '29.9800', '5. volume': '26346186'}, '2023-11-17': {'1. open': '29.9200', '2. high': '30.0089', '3. low': '29.7400', '4. close': '29.9200', '5. volume': '27082355'}, '2023-11-16': {'1. open': '30.2700', '2. high': '30.4500', '3. low': '29.4700', '4. close': '29.7700', '5. volume': '32407186'}, '2023-11-15': {'1. open': '29.2100', '2. high': '30.3500', '3. low': '29.2100', '4. close': '30.1900', '5. volume': '43614636'}, '2023-11-14': {'1. open': '29.0900', '2. high': '29.7100', '3. low': '28.9900', '4. close': '29.2600', '5. volume': '40084331'}, '2023-11-13': {'1. open': '29.3400', '2. high': '29.3600', '3. low': '28.9300', '4. close': '28.9800', '5. volume': '35519914'}, '2023-11-10': {'1. open': '29.7500', '2. high': '29.8150', '3. low': '29.0250', '4. close': '29.4800', '5. volume': '33860227'}, '2023-11-09': {'1. open': '30.4900', '2. high': '30.5050', '3. low': '29.6300', '4. close': '29.6800', '5. volume': '28737696'}, '2023-11-08': {'1. open': '30.9200', '2. high': '31.3000', '3. low': '30.5500', '4. close': '30.8200', '5. volume': '29398346'}, '2023-11-07': {'1. open': '31.0800', '2. high': '31.3850', '3. low': '30.8900', '4. close': '31.2500', '5. volume': '18086421'}, '2023-11-06': {'1. open': '31.3200', '2. high': '31.4100', '3. low': '30.9550', '4. close': '31.1800', '5. volume': '27381163'}, '2023-11-03': {'1. open': '30.9000', '2. high': '31.3900', '3. low': '30.8350', '4. close': '31.2600', '5. volume': '28071015'}, '2023-11-02': {'1. open': '30.5100', '2. high': '30.6500', '3. low': '30.2100', '4. close': '30.5000', '5. volume': '29640886'}, '2023-11-01': {'1. open': '30.5600', '2. high': '31.0750', '3. low': '30.4700', '4. close': '30.5100', '5. volume': '23568309'}, '2023-10-31': {'1. open': '30.2850', '2. high': '30.8200', '3. low': '29.7000', '4. close': '30.5600', '5. volume': '42648188'}, '2023-10-30': {'1. open': '30.2400', '2. high': '30.6800', '3. low': '30.1100', '4. close': '30.5500', '5. volume': '33063533'}, '2023-10-27': {'1. open': '31.0600', '2. high': '31.1300', '3. low': '30.0200', '4. close': '30.1100', '5. volume': '33877106'}, '2023-10-26': {'1. open': '30.6100', '2. high': '31.3700', '3. low': '30.5000', '4. close': '31.1600', '5. volume': '27162701'}, '2023-10-25': {'1. open': '30.4600', '2. high': '31.0000', '3. low': '30.2200', '4. close': '30.7300', '5. volume': '28857900'}, '2023-10-24': {'1. open': '30.8800', '2. high': '31.0300', '3. low': '30.3200', '4. close': '30.4300', '5. volume': '26923788'}, '2023-10-23': {'1. open': '30.7700', '2. high': '31.3900', '3. low': '30.5300', '4. close': '30.8400', '5. volume': '29412071'}, '2023-10-20': {'1. open': '31.0600', '2. high': '31.1100', '3. low': '30.4750', '4. close': '30.6500', '5. volume': '39407902'}, '2023-10-19': {'1. open': '31.3800', '2. high': '31.4950', '3. low': '30.9100', '4. close': '31.1900', '5. volume': '26880287'}, '2023-10-18': {'1. open': '32.5400', '2. high': '32.6800', '3. low': '31.3850', '4. close': '31.4100', '5. volume': '30307588'}, '2023-10-17': {'1. open': '33.0000', '2. high': '33.1900', '3. low': '32.2000', '4. close': '32.7500', '5. volume': '40015849'}, '2023-10-16': {'1. open': '32.8300', '2. high': '33.9200', '3. low': '32.5600', '4. close': '33.2700', '5. volume': '63317432'}, '2023-10-13': {'1. open': '32.9400', '2. high': '32.9900', '3. low': '32.0150', '4. close': '32.1100', '5. volume': '32675093'}, '2023-10-12': {'1. open': '33.1100', '2. high': '33.2200', '3. low': '32.7700', '4. close': '32.9200', '5. volume': '21809858'}, '2023-10-11': {'1. open': '33.2400', '2. high': '33.3300', '3. low': '32.8200', '4. close': '33.1100', '5. volume': '24221176'}, '2023-10-10': {'1. open': '33.0800', '2. high': '33.4000', '3. low': '33.0100', '4. close': '33.1700', '5. volume': '19212104'}, '2023-10-09': {'1. open': '33.0600', '2. high': '33.4700', '3. low': '32.7700', '4. close': '33.2000', '5. volume': '17468112'}, '2023-10-06': {'1. open': '33.5150', '2. high': '33.5600', '3. low': '33.0721', '4. close': '33.1300', '5. volume': '23760440'}, '2023-10-05': {'1. open': '33.4500', '2. high': '33.7800', '3. low': '33.0450', '4. close': '33.4700', '5. volume': '21279407'}, '2023-10-04': {'1. open': '33.9400', '2. high': '34.0799', '3. low': '33.0050', '4. close': '33.3100', '5. volume': '23722342'}, '2023-10-03': {'1. open': '33.8400', '2. high': '34.1100', '3. low': '33.7100', '4. close': '33.9000', '5. volume': '31059924'}, '2023-10-02': {'1. open': '32.9500', '2. high': '33.9550', '3. low': '32.7600', '4. close': '33.9400', '5. volume': '44620596'}, '2023-09-29': {'1. open': '32.3500', '2. high': '33.2300', '3. low': '32.3000', '4. close': '33.1700', '5. volume': '42421449'}}}\u001b[0m\u001b[32;1m\u001b[1;3mHere's the financial information for Pfizer Inc. (PFE):\n",
      "\n",
      "1. Company Overview:\n",
      "   - Name: Pfizer Inc\n",
      "   - Description: Pfizer Inc. is an American multinational pharmaceutical and biotechnology corporation headquartered in New York City. The company develops and produces medicines and vaccines for various medical fields.\n",
      "   - Market Capitalization: $156.24 billion\n",
      "   - Dividend Per Share: $1.64\n",
      "   - Dividend Yield: 0.0607\n",
      "   - Revenue (TTM): $58.50 billion\n",
      "   - Gross Profit (TTM): $66.23 billion\n",
      "   - Earnings Per Share (EPS): $0.37\n",
      "   - Price/Earnings Ratio (P/E): 74.78\n",
      "   - Forward P/E Ratio: 12.47\n",
      "   - Analyst Target Price: $32.14\n",
      "   - Analyst Ratings: 3 Strong Buy, 7 Buy, 15 Hold, 0 Sell, 0 Strong Sell\n",
      "\n",
      "2. Income Statement (2022):\n",
      "   - Total Revenue: $100.33 billion\n",
      "   - Gross Profit: $47.91 billion\n",
      "   - Operating Income: $16.37 billion\n",
      "   - Net Income: $31.37 billion\n",
      "\n",
      "3. Stock Performance (Recent):\n",
      "   - Current Stock Price: $27.55\n",
      "   - 52-Week High: $40.15\n",
      "   - 52-Week Low: $25.38\n",
      "   - 50-Day Moving Average: $28.00\n",
      "   - 200-Day Moving Average: $33.00\n",
      "\n",
      "Based on the financial information, Pfizer has shown strong revenue growth, a consistent dividend yield, and a positive net income. The stock price has experienced fluctuations, and the current P/E ratio is relatively high. Analyst ratings suggest a mix of buy and hold recommendations.\n",
      "\n",
      "Before making any investment decisions, it's important to consider the company's financial health, industry trends, and market conditions. It's recommended to consult with a financial advisor for personalized investment advice.\u001b[0m\n",
      "\n",
      "\u001b[1m> Finished chain.\u001b[0m\n"
     ]
    },
    {
     "data": {
      "text/plain": [
       "{'input': \"Give me financial information on Pfizer's stock, considering its financials, income statements and stock performance and help me analyze if it's a potential good investment.\",\n",
       " 'output': \"Here's the financial information for Pfizer Inc. (PFE):\\n\\n1. Company Overview:\\n   - Name: Pfizer Inc\\n   - Description: Pfizer Inc. is an American multinational pharmaceutical and biotechnology corporation headquartered in New York City. The company develops and produces medicines and vaccines for various medical fields.\\n   - Market Capitalization: $156.24 billion\\n   - Dividend Per Share: $1.64\\n   - Dividend Yield: 0.0607\\n   - Revenue (TTM): $58.50 billion\\n   - Gross Profit (TTM): $66.23 billion\\n   - Earnings Per Share (EPS): $0.37\\n   - Price/Earnings Ratio (P/E): 74.78\\n   - Forward P/E Ratio: 12.47\\n   - Analyst Target Price: $32.14\\n   - Analyst Ratings: 3 Strong Buy, 7 Buy, 15 Hold, 0 Sell, 0 Strong Sell\\n\\n2. Income Statement (2022):\\n   - Total Revenue: $100.33 billion\\n   - Gross Profit: $47.91 billion\\n   - Operating Income: $16.37 billion\\n   - Net Income: $31.37 billion\\n\\n3. Stock Performance (Recent):\\n   - Current Stock Price: $27.55\\n   - 52-Week High: $40.15\\n   - 52-Week Low: $25.38\\n   - 50-Day Moving Average: $28.00\\n   - 200-Day Moving Average: $33.00\\n\\nBased on the financial information, Pfizer has shown strong revenue growth, a consistent dividend yield, and a positive net income. The stock price has experienced fluctuations, and the current P/E ratio is relatively high. Analyst ratings suggest a mix of buy and hold recommendations.\\n\\nBefore making any investment decisions, it's important to consider the company's financial health, industry trends, and market conditions. It's recommended to consult with a financial advisor for personalized investment advice.\"}"
      ]
     },
     "execution_count": 1,
     "metadata": {},
     "output_type": "execute_result"
    },
    {
     "name": "stderr",
     "output_type": "stream",
     "text": [
      "d:\\project_python\\fullstack-gpt\\venv\\Lib\\site-packages\\curl_cffi\\aio.py:192: UserWarning: Curlm alread closed! quitting from process_data\n",
      "  warnings.warn(\"Curlm alread closed! quitting from process_data\")\n"
     ]
    }
   ],
   "source": [
    "import os\n",
    "import requests\n",
    "from typing import Any, Type\n",
    "from langchain.chat_models import ChatOpenAI\n",
    "from langchain.tools import BaseTool\n",
    "from pydantic import BaseModel, Field\n",
    "from langchain.agents import initialize_agent, AgentType\n",
    "from langchain.utilities import DuckDuckGoSearchAPIWrapper\n",
    "\n",
    "llm = ChatOpenAI(temperature=0.1, model_name=\"gpt-3.5-turbo-1106\")\n",
    "\n",
    "alpha_vantage_api_key = os.environ.get(\"ALPHA_VANTAGE_API_KEY\")\n",
    "\n",
    "\n",
    "class StockMarketSymbolSearchToolArgsSchema(BaseModel):\n",
    "    query: str = Field(\n",
    "        description=\"The query you will search for.Example query: Stock Market Symbol for Apple Company\"\n",
    "    )\n",
    "\n",
    "    \n",
    "\n",
    "class StockMarketSymbolSearchTool(BaseTool):\n",
    "    name = \"StockMarketSymbolSearchTool\"\n",
    "    description = \"\"\"\n",
    "    Use this tool to find the stock market symbol for a company.\n",
    "    It takes a query as an argument.\n",
    "    \n",
    "    \"\"\"\n",
    "    args_schema: Type[\n",
    "        StockMarketSymbolSearchToolArgsSchema\n",
    "    ] = StockMarketSymbolSearchToolArgsSchema\n",
    "\n",
    "    def _run(self, query):\n",
    "        ddg = DuckDuckGoSearchAPIWrapper()\n",
    "        return ddg.run(query)\n",
    "\n",
    "\n",
    "class CompanyOverviewArgsSchema(BaseModel):\n",
    "    symbol : str = Field(description=\"Stock symbol of the company. Example: AAPL, TSLA\")\n",
    "\n",
    "class CompanyOverviewTool(BaseTool):\n",
    "    name = \"CompanyOverview\"\n",
    "    description=\"\"\"\n",
    "    Use this to get an overview of the financials of the company.\n",
    "    You should enter a stock symbol.\n",
    "    \"\"\"\n",
    "    args_schema: Type[CompanyOverviewArgsSchema] = CompanyOverviewArgsSchema\n",
    "\n",
    "    def _run(self, symbol):\n",
    "        r = requests.get(f\"https://www.alphavantage.co/query?function=OVERVIEW&symbol={symbol}&apikey={alpha_vantage_api_key}\")\n",
    "        return r.json()\n",
    "\n",
    "\n",
    "class CompanyIncomeStatementTool(BaseTool):\n",
    "    name = \"CompanyIncomeStatement\"\n",
    "    description=\"\"\"\n",
    "    Use this to get the income statement of a company.\n",
    "    You should enter a stock symbol.\n",
    "    \"\"\"\n",
    "    args_schema: Type[CompanyOverviewArgsSchema] = CompanyOverviewArgsSchema\n",
    "\n",
    "    def _run(self, symbol):\n",
    "        r = requests.get(f\"https://www.alphavantage.co/query?function=INCOME_STATEMENT&symbol={symbol}&apikey={alpha_vantage_api_key}\")\n",
    "        return r.json()[\"annualReports\"]\n",
    "    \n",
    "\n",
    "class CompanyStockPerformanceTool(BaseTool):\n",
    "    name = \"CompanyStockPerformance\"\n",
    "    description=\"\"\"\n",
    "    Use this to get the weekly performance of a company stock.\n",
    "    You should enter a stock symbol.\n",
    "    \"\"\"\n",
    "    args_schema: Type[CompanyOverviewArgsSchema] = CompanyOverviewArgsSchema\n",
    "\n",
    "    def _run(self, symbol):\n",
    "        r = requests.get(f\"https://www.alphavantage.co/query?function=TIME_SERIES_DAILY&symbol={symbol}&apikey={alpha_vantage_api_key}\")\n",
    "        return r.json()\n",
    "    \n",
    "agent = initialize_agent(\n",
    "    llm=llm,\n",
    "    verbose=True,\n",
    "    agent=AgentType.OPENAI_FUNCTIONS,\n",
    "    handle_parsing_errors=True,\n",
    "    tools=[\n",
    "        StockMarketSymbolSearchTool(),\n",
    "        CompanyOverviewTool(),\n",
    "        CompanyIncomeStatementTool(),\n",
    "        CompanyStockPerformanceTool()\n",
    "    ],\n",
    ")\n",
    "\n",
    "\n",
    "prompt = \"Give me financial information on CRISPR Therapeutics A's stock, considering its financials, income statements and stock performance and help me analyze if it's a potential good investment.\"\n",
    "\n",
    "agent.invoke(prompt)"
   ]
  },
  {
   "cell_type": "code",
   "execution_count": null,
   "metadata": {},
   "outputs": [],
   "source": []
  }
 ],
 "metadata": {
  "kernelspec": {
   "display_name": "venv",
   "language": "python",
   "name": "python3"
  },
  "language_info": {
   "codemirror_mode": {
    "name": "ipython",
    "version": 3
   },
   "file_extension": ".py",
   "mimetype": "text/x-python",
   "name": "python",
   "nbconvert_exporter": "python",
   "pygments_lexer": "ipython3",
   "version": "3.11.4"
  }
 },
 "nbformat": 4,
 "nbformat_minor": 2
}
